{
  "nbformat": 4,
  "nbformat_minor": 0,
  "metadata": {
    "colab": {
      "provenance": [],
      "toc_visible": true
    },
    "kernelspec": {
      "name": "python3",
      "display_name": "Python 3"
    },
    "language_info": {
      "name": "python"
    }
  },
  "cells": [
    {
      "cell_type": "markdown",
      "metadata": {
        "id": "BZB3bmBJ_i-l"
      },
      "source": [
        "## Content\n",
        "\n",
        "### kNN\n",
        "\n",
        "- Blinkit Problem Statement\n",
        " - Issue with Logistic Regression\n",
        "\n",
        "- Geometric Intuition\n",
        "\n",
        "\n",
        "\n",
        "- The KNN Algorithm\n",
        "\n",
        "\n",
        "- kNN Scratch Code\n",
        "\n",
        "\n",
        "- Assumption of KNN\n"
      ]
    },
    {
      "cell_type": "markdown",
      "source": [
        "# **Business Case**\n",
        "\n",
        "**Blinkit** is trying to find an **optimal number of delivery partners per store** for faster delivery"
      ],
      "metadata": {
        "id": "XB_V0AKlo_Mg"
      }
    },
    {
      "cell_type": "markdown",
      "source": [
        "<img src=https://d2beiqkhq929f0.cloudfront.net/public_assets/assets/000/040/471/original/Screenshot_2023-07-23_at_7.43.57_PM.png?1690130758 width=700>"
      ],
      "metadata": {
        "id": "rH91tqn3o_sy"
      }
    },
    {
      "cell_type": "markdown",
      "metadata": {
        "id": "UciGuoX4_0Np"
      },
      "source": [
        "\n",
        "\n",
        "- Hence it has classified its store into 3 classes based on\n",
        " - how much products are delivered from a store\n",
        "\n",
        "1. Class1 : High Traffic (Needs a high number of delivery partners)\n",
        "2. Class2 : Moderate Traffic (Needs a decent number of delivery partners)\n",
        "3. Class3 : Low Traffic (Needs a very small number of delivery partners)\n"
      ]
    },
    {
      "cell_type": "code",
      "execution_count": null,
      "metadata": {
        "id": "yIoPQQuAhhTN"
      },
      "outputs": [],
      "source": [
        "import pandas as pd\n",
        "import numpy as np"
      ]
    },
    {
      "cell_type": "code",
      "execution_count": null,
      "metadata": {
        "colab": {
          "base_uri": "https://localhost:8080/"
        },
        "id": "9sGjAYmChntZ",
        "outputId": "42b5b98e-0f75-466c-e01b-46372a0ae406"
      },
      "outputs": [
        {
          "output_type": "stream",
          "name": "stdout",
          "text": [
            "Downloading...\n",
            "From: https://drive.google.com/uc?id=1ZdhRqYv-JizWV6DxO6C4R_k1kxPhmlF2\n",
            "To: /content/multiclass.csv\n",
            "\r  0% 0.00/14.6k [00:00<?, ?B/s]\r100% 14.6k/14.6k [00:00<00:00, 27.5MB/s]\n"
          ]
        }
      ],
      "source": [
        "!gdown 1ZdhRqYv-JizWV6DxO6C4R_k1kxPhmlF2\n"
      ]
    },
    {
      "cell_type": "code",
      "execution_count": null,
      "metadata": {
        "colab": {
          "base_uri": "https://localhost:8080/",
          "height": 206
        },
        "id": "QfHPIiHqiGJm",
        "outputId": "6d861e2d-729d-4402-82f6-d730896d54ad"
      },
      "outputs": [
        {
          "output_type": "execute_result",
          "data": {
            "text/plain": [
              "   Region  Fresh  Milk  Grocery  Frozen  Detergents_Paper  Delicassen  class\n",
              "0       3  12669  9656     7561     214              2674        1338      2\n",
              "1       3   7057  9810     9568    1762              3293        1776      2\n",
              "2       3   6353  8808     7684    2405              3516        7844      2\n",
              "3       3  13265  1196     4221    6404               507        1788      1\n",
              "4       3  22615  5410     7198    3915              1777        5185      1"
            ],
            "text/html": [
              "\n",
              "  <div id=\"df-589eb120-feca-408f-aa78-85ea088703af\" class=\"colab-df-container\">\n",
              "    <div>\n",
              "<style scoped>\n",
              "    .dataframe tbody tr th:only-of-type {\n",
              "        vertical-align: middle;\n",
              "    }\n",
              "\n",
              "    .dataframe tbody tr th {\n",
              "        vertical-align: top;\n",
              "    }\n",
              "\n",
              "    .dataframe thead th {\n",
              "        text-align: right;\n",
              "    }\n",
              "</style>\n",
              "<table border=\"1\" class=\"dataframe\">\n",
              "  <thead>\n",
              "    <tr style=\"text-align: right;\">\n",
              "      <th></th>\n",
              "      <th>Region</th>\n",
              "      <th>Fresh</th>\n",
              "      <th>Milk</th>\n",
              "      <th>Grocery</th>\n",
              "      <th>Frozen</th>\n",
              "      <th>Detergents_Paper</th>\n",
              "      <th>Delicassen</th>\n",
              "      <th>class</th>\n",
              "    </tr>\n",
              "  </thead>\n",
              "  <tbody>\n",
              "    <tr>\n",
              "      <th>0</th>\n",
              "      <td>3</td>\n",
              "      <td>12669</td>\n",
              "      <td>9656</td>\n",
              "      <td>7561</td>\n",
              "      <td>214</td>\n",
              "      <td>2674</td>\n",
              "      <td>1338</td>\n",
              "      <td>2</td>\n",
              "    </tr>\n",
              "    <tr>\n",
              "      <th>1</th>\n",
              "      <td>3</td>\n",
              "      <td>7057</td>\n",
              "      <td>9810</td>\n",
              "      <td>9568</td>\n",
              "      <td>1762</td>\n",
              "      <td>3293</td>\n",
              "      <td>1776</td>\n",
              "      <td>2</td>\n",
              "    </tr>\n",
              "    <tr>\n",
              "      <th>2</th>\n",
              "      <td>3</td>\n",
              "      <td>6353</td>\n",
              "      <td>8808</td>\n",
              "      <td>7684</td>\n",
              "      <td>2405</td>\n",
              "      <td>3516</td>\n",
              "      <td>7844</td>\n",
              "      <td>2</td>\n",
              "    </tr>\n",
              "    <tr>\n",
              "      <th>3</th>\n",
              "      <td>3</td>\n",
              "      <td>13265</td>\n",
              "      <td>1196</td>\n",
              "      <td>4221</td>\n",
              "      <td>6404</td>\n",
              "      <td>507</td>\n",
              "      <td>1788</td>\n",
              "      <td>1</td>\n",
              "    </tr>\n",
              "    <tr>\n",
              "      <th>4</th>\n",
              "      <td>3</td>\n",
              "      <td>22615</td>\n",
              "      <td>5410</td>\n",
              "      <td>7198</td>\n",
              "      <td>3915</td>\n",
              "      <td>1777</td>\n",
              "      <td>5185</td>\n",
              "      <td>1</td>\n",
              "    </tr>\n",
              "  </tbody>\n",
              "</table>\n",
              "</div>\n",
              "    <div class=\"colab-df-buttons\">\n",
              "\n",
              "  <div class=\"colab-df-container\">\n",
              "    <button class=\"colab-df-convert\" onclick=\"convertToInteractive('df-589eb120-feca-408f-aa78-85ea088703af')\"\n",
              "            title=\"Convert this dataframe to an interactive table.\"\n",
              "            style=\"display:none;\">\n",
              "\n",
              "  <svg xmlns=\"http://www.w3.org/2000/svg\" height=\"24px\" viewBox=\"0 -960 960 960\">\n",
              "    <path d=\"M120-120v-720h720v720H120Zm60-500h600v-160H180v160Zm220 220h160v-160H400v160Zm0 220h160v-160H400v160ZM180-400h160v-160H180v160Zm440 0h160v-160H620v160ZM180-180h160v-160H180v160Zm440 0h160v-160H620v160Z\"/>\n",
              "  </svg>\n",
              "    </button>\n",
              "\n",
              "  <style>\n",
              "    .colab-df-container {\n",
              "      display:flex;\n",
              "      gap: 12px;\n",
              "    }\n",
              "\n",
              "    .colab-df-convert {\n",
              "      background-color: #E8F0FE;\n",
              "      border: none;\n",
              "      border-radius: 50%;\n",
              "      cursor: pointer;\n",
              "      display: none;\n",
              "      fill: #1967D2;\n",
              "      height: 32px;\n",
              "      padding: 0 0 0 0;\n",
              "      width: 32px;\n",
              "    }\n",
              "\n",
              "    .colab-df-convert:hover {\n",
              "      background-color: #E2EBFA;\n",
              "      box-shadow: 0px 1px 2px rgba(60, 64, 67, 0.3), 0px 1px 3px 1px rgba(60, 64, 67, 0.15);\n",
              "      fill: #174EA6;\n",
              "    }\n",
              "\n",
              "    .colab-df-buttons div {\n",
              "      margin-bottom: 4px;\n",
              "    }\n",
              "\n",
              "    [theme=dark] .colab-df-convert {\n",
              "      background-color: #3B4455;\n",
              "      fill: #D2E3FC;\n",
              "    }\n",
              "\n",
              "    [theme=dark] .colab-df-convert:hover {\n",
              "      background-color: #434B5C;\n",
              "      box-shadow: 0px 1px 3px 1px rgba(0, 0, 0, 0.15);\n",
              "      filter: drop-shadow(0px 1px 2px rgba(0, 0, 0, 0.3));\n",
              "      fill: #FFFFFF;\n",
              "    }\n",
              "  </style>\n",
              "\n",
              "    <script>\n",
              "      const buttonEl =\n",
              "        document.querySelector('#df-589eb120-feca-408f-aa78-85ea088703af button.colab-df-convert');\n",
              "      buttonEl.style.display =\n",
              "        google.colab.kernel.accessAllowed ? 'block' : 'none';\n",
              "\n",
              "      async function convertToInteractive(key) {\n",
              "        const element = document.querySelector('#df-589eb120-feca-408f-aa78-85ea088703af');\n",
              "        const dataTable =\n",
              "          await google.colab.kernel.invokeFunction('convertToInteractive',\n",
              "                                                    [key], {});\n",
              "        if (!dataTable) return;\n",
              "\n",
              "        const docLinkHtml = 'Like what you see? Visit the ' +\n",
              "          '<a target=\"_blank\" href=https://colab.research.google.com/notebooks/data_table.ipynb>data table notebook</a>'\n",
              "          + ' to learn more about interactive tables.';\n",
              "        element.innerHTML = '';\n",
              "        dataTable['output_type'] = 'display_data';\n",
              "        await google.colab.output.renderOutput(dataTable, element);\n",
              "        const docLink = document.createElement('div');\n",
              "        docLink.innerHTML = docLinkHtml;\n",
              "        element.appendChild(docLink);\n",
              "      }\n",
              "    </script>\n",
              "  </div>\n",
              "\n",
              "\n",
              "<div id=\"df-48fefc22-8bde-48cd-aab9-688cdfad4abd\">\n",
              "  <button class=\"colab-df-quickchart\" onclick=\"quickchart('df-48fefc22-8bde-48cd-aab9-688cdfad4abd')\"\n",
              "            title=\"Suggest charts\"\n",
              "            style=\"display:none;\">\n",
              "\n",
              "<svg xmlns=\"http://www.w3.org/2000/svg\" height=\"24px\"viewBox=\"0 0 24 24\"\n",
              "     width=\"24px\">\n",
              "    <g>\n",
              "        <path d=\"M19 3H5c-1.1 0-2 .9-2 2v14c0 1.1.9 2 2 2h14c1.1 0 2-.9 2-2V5c0-1.1-.9-2-2-2zM9 17H7v-7h2v7zm4 0h-2V7h2v10zm4 0h-2v-4h2v4z\"/>\n",
              "    </g>\n",
              "</svg>\n",
              "  </button>\n",
              "\n",
              "<style>\n",
              "  .colab-df-quickchart {\n",
              "      --bg-color: #E8F0FE;\n",
              "      --fill-color: #1967D2;\n",
              "      --hover-bg-color: #E2EBFA;\n",
              "      --hover-fill-color: #174EA6;\n",
              "      --disabled-fill-color: #AAA;\n",
              "      --disabled-bg-color: #DDD;\n",
              "  }\n",
              "\n",
              "  [theme=dark] .colab-df-quickchart {\n",
              "      --bg-color: #3B4455;\n",
              "      --fill-color: #D2E3FC;\n",
              "      --hover-bg-color: #434B5C;\n",
              "      --hover-fill-color: #FFFFFF;\n",
              "      --disabled-bg-color: #3B4455;\n",
              "      --disabled-fill-color: #666;\n",
              "  }\n",
              "\n",
              "  .colab-df-quickchart {\n",
              "    background-color: var(--bg-color);\n",
              "    border: none;\n",
              "    border-radius: 50%;\n",
              "    cursor: pointer;\n",
              "    display: none;\n",
              "    fill: var(--fill-color);\n",
              "    height: 32px;\n",
              "    padding: 0;\n",
              "    width: 32px;\n",
              "  }\n",
              "\n",
              "  .colab-df-quickchart:hover {\n",
              "    background-color: var(--hover-bg-color);\n",
              "    box-shadow: 0 1px 2px rgba(60, 64, 67, 0.3), 0 1px 3px 1px rgba(60, 64, 67, 0.15);\n",
              "    fill: var(--button-hover-fill-color);\n",
              "  }\n",
              "\n",
              "  .colab-df-quickchart-complete:disabled,\n",
              "  .colab-df-quickchart-complete:disabled:hover {\n",
              "    background-color: var(--disabled-bg-color);\n",
              "    fill: var(--disabled-fill-color);\n",
              "    box-shadow: none;\n",
              "  }\n",
              "\n",
              "  .colab-df-spinner {\n",
              "    border: 2px solid var(--fill-color);\n",
              "    border-color: transparent;\n",
              "    border-bottom-color: var(--fill-color);\n",
              "    animation:\n",
              "      spin 1s steps(1) infinite;\n",
              "  }\n",
              "\n",
              "  @keyframes spin {\n",
              "    0% {\n",
              "      border-color: transparent;\n",
              "      border-bottom-color: var(--fill-color);\n",
              "      border-left-color: var(--fill-color);\n",
              "    }\n",
              "    20% {\n",
              "      border-color: transparent;\n",
              "      border-left-color: var(--fill-color);\n",
              "      border-top-color: var(--fill-color);\n",
              "    }\n",
              "    30% {\n",
              "      border-color: transparent;\n",
              "      border-left-color: var(--fill-color);\n",
              "      border-top-color: var(--fill-color);\n",
              "      border-right-color: var(--fill-color);\n",
              "    }\n",
              "    40% {\n",
              "      border-color: transparent;\n",
              "      border-right-color: var(--fill-color);\n",
              "      border-top-color: var(--fill-color);\n",
              "    }\n",
              "    60% {\n",
              "      border-color: transparent;\n",
              "      border-right-color: var(--fill-color);\n",
              "    }\n",
              "    80% {\n",
              "      border-color: transparent;\n",
              "      border-right-color: var(--fill-color);\n",
              "      border-bottom-color: var(--fill-color);\n",
              "    }\n",
              "    90% {\n",
              "      border-color: transparent;\n",
              "      border-bottom-color: var(--fill-color);\n",
              "    }\n",
              "  }\n",
              "</style>\n",
              "\n",
              "  <script>\n",
              "    async function quickchart(key) {\n",
              "      const quickchartButtonEl =\n",
              "        document.querySelector('#' + key + ' button');\n",
              "      quickchartButtonEl.disabled = true;  // To prevent multiple clicks.\n",
              "      quickchartButtonEl.classList.add('colab-df-spinner');\n",
              "      try {\n",
              "        const charts = await google.colab.kernel.invokeFunction(\n",
              "            'suggestCharts', [key], {});\n",
              "      } catch (error) {\n",
              "        console.error('Error during call to suggestCharts:', error);\n",
              "      }\n",
              "      quickchartButtonEl.classList.remove('colab-df-spinner');\n",
              "      quickchartButtonEl.classList.add('colab-df-quickchart-complete');\n",
              "    }\n",
              "    (() => {\n",
              "      let quickchartButtonEl =\n",
              "        document.querySelector('#df-48fefc22-8bde-48cd-aab9-688cdfad4abd button');\n",
              "      quickchartButtonEl.style.display =\n",
              "        google.colab.kernel.accessAllowed ? 'block' : 'none';\n",
              "    })();\n",
              "  </script>\n",
              "</div>\n",
              "    </div>\n",
              "  </div>\n"
            ],
            "application/vnd.google.colaboratory.intrinsic+json": {
              "type": "dataframe",
              "variable_name": "df",
              "summary": "{\n  \"name\": \"df\",\n  \"rows\": 440,\n  \"fields\": [\n    {\n      \"column\": \"Region\",\n      \"properties\": {\n        \"dtype\": \"number\",\n        \"std\": 0,\n        \"min\": 1,\n        \"max\": 3,\n        \"num_unique_values\": 3,\n        \"samples\": [\n          3,\n          1,\n          2\n        ],\n        \"semantic_type\": \"\",\n        \"description\": \"\"\n      }\n    },\n    {\n      \"column\": \"Fresh\",\n      \"properties\": {\n        \"dtype\": \"number\",\n        \"std\": 12647,\n        \"min\": 3,\n        \"max\": 112151,\n        \"num_unique_values\": 433,\n        \"samples\": [\n          21117,\n          20398,\n          112151\n        ],\n        \"semantic_type\": \"\",\n        \"description\": \"\"\n      }\n    },\n    {\n      \"column\": \"Milk\",\n      \"properties\": {\n        \"dtype\": \"number\",\n        \"std\": 7380,\n        \"min\": 55,\n        \"max\": 73498,\n        \"num_unique_values\": 421,\n        \"samples\": [\n          8384,\n          7184,\n          7845\n        ],\n        \"semantic_type\": \"\",\n        \"description\": \"\"\n      }\n    },\n    {\n      \"column\": \"Grocery\",\n      \"properties\": {\n        \"dtype\": \"number\",\n        \"std\": 9503,\n        \"min\": 3,\n        \"max\": 92780,\n        \"num_unique_values\": 430,\n        \"samples\": [\n          5160,\n          3,\n          4945\n        ],\n        \"semantic_type\": \"\",\n        \"description\": \"\"\n      }\n    },\n    {\n      \"column\": \"Frozen\",\n      \"properties\": {\n        \"dtype\": \"number\",\n        \"std\": 4854,\n        \"min\": 25,\n        \"max\": 60869,\n        \"num_unique_values\": 426,\n        \"samples\": [\n          269,\n          7530,\n          1152\n        ],\n        \"semantic_type\": \"\",\n        \"description\": \"\"\n      }\n    },\n    {\n      \"column\": \"Detergents_Paper\",\n      \"properties\": {\n        \"dtype\": \"number\",\n        \"std\": 4767,\n        \"min\": 3,\n        \"max\": 40827,\n        \"num_unique_values\": 417,\n        \"samples\": [\n          302,\n          6740,\n          1328\n        ],\n        \"semantic_type\": \"\",\n        \"description\": \"\"\n      }\n    },\n    {\n      \"column\": \"Delicassen\",\n      \"properties\": {\n        \"dtype\": \"number\",\n        \"std\": 2820,\n        \"min\": 3,\n        \"max\": 47943,\n        \"num_unique_values\": 403,\n        \"samples\": [\n          14472,\n          172,\n          59\n        ],\n        \"semantic_type\": \"\",\n        \"description\": \"\"\n      }\n    },\n    {\n      \"column\": \"class\",\n      \"properties\": {\n        \"dtype\": \"number\",\n        \"std\": 0,\n        \"min\": 1,\n        \"max\": 3,\n        \"num_unique_values\": 3,\n        \"samples\": [\n          2,\n          1,\n          3\n        ],\n        \"semantic_type\": \"\",\n        \"description\": \"\"\n      }\n    }\n  ]\n}"
            }
          },
          "metadata": {},
          "execution_count": 3
        }
      ],
      "source": [
        "df=pd.read_csv('multiclass.csv')\n",
        "df.head()"
      ]
    },
    {
      "cell_type": "markdown",
      "metadata": {
        "id": "n1UTJWAnncrf"
      },
      "source": [
        "**Data Description**\n",
        "\n",
        "|feature|Description|\n",
        "|-|-|\n",
        "|**Region**|where the store is located (1: Tier-1 city, 2: Tier-2 city, 3:Tier-3 city)|\n",
        "|**Fresh**|Fresh food products delivery count |\n",
        "|**Milk**|milk products delivery count|\n",
        "|**Grocery**|Grocery products delivery count|\n",
        "|**Frozen**|Frozen food products delivery count|\n",
        "|**Detergents_Paper**|washing products delivery count|\n",
        "|**Delicassen**|imported products, cooked meat delivery count|\n",
        "|**class**|Store catgeory (Class1, Class2, Class3)|\n",
        "\n",
        "\n",
        "\n"
      ]
    },
    {
      "cell_type": "markdown",
      "metadata": {
        "id": "EthkTIBmnV7t"
      },
      "source": [
        "Now lets see the count of sample each of the three classes"
      ]
    },
    {
      "cell_type": "code",
      "execution_count": null,
      "metadata": {
        "colab": {
          "base_uri": "https://localhost:8080/",
          "height": 472
        },
        "id": "dHxktIWSjfwW",
        "outputId": "57cfcd3c-6267-4c36-c3d6-7d3e96179163"
      },
      "outputs": [
        {
          "output_type": "display_data",
          "data": {
            "text/plain": [
              "<Figure size 640x480 with 1 Axes>"
            ],
            "image/png": "[encoded data removed]"
          },
          "metadata": {}
        }
      ],
      "source": [
        "import seaborn as sns\n",
        "import matplotlib.pyplot as plt\n",
        "\n",
        "sns.histplot(data=df, x=\"class\")\n",
        "plt.title('Data Distribution')\n",
        "plt.show()"
      ]
    },
    {
      "cell_type": "markdown",
      "metadata": {
        "id": "vrPy-YtZnzVQ"
      },
      "source": [
        "Lets now define our X and y for the model and visualize the data"
      ]
    },
    {
      "cell_type": "code",
      "execution_count": null,
      "metadata": {
        "id": "_0axlyLem5pP"
      },
      "outputs": [],
      "source": [
        "X=df[['Region',\t'Fresh',\t'Milk',\t'Grocery',\t'Frozen',\t'Detergents_Paper',\t'Delicassen'\t]].copy()\n",
        "y=df[['class']].copy()"
      ]
    },
    {
      "cell_type": "code",
      "source": [
        "from sklearn.decomposition import PCA\n",
        "import matplotlib.pyplot as plt\n",
        "\n",
        "\n",
        "def scatter_visualize(visualize1,visualize2,y_label):\n",
        "  scatter = plt.scatter(visualize[:,0] ,visualize[:,1],c = y.values[:,0] )\n",
        "  plt.legend(handles=scatter.legend_elements()[0], labels=['Class1','Class2','Class3'])\n",
        "  plt.show()"
      ],
      "metadata": {
        "id": "_3m92IK2I6_3"
      },
      "execution_count": null,
      "outputs": []
    },
    {
      "cell_type": "code",
      "source": [
        "# reducing features to just 2 features for visualization purpose\n",
        "pca = PCA(n_components=2)\n",
        "visualize = pca.fit_transform(X)\n",
        "\n",
        "\n",
        "scatter_visualize(visualize[:,0] ,visualize[:,1],y.values[:,0])\n",
        "\n"
      ],
      "metadata": {
        "colab": {
          "base_uri": "https://localhost:8080/",
          "height": 430
        },
        "id": "bVypM_efDsW-",
        "outputId": "928351af-f94b-4f6d-da9d-8da117383e71"
      },
      "execution_count": null,
      "outputs": [
        {
          "output_type": "display_data",
          "data": {
            "text/plain": [
              "<Figure size 640x480 with 1 Axes>"
            ],
            "image/png": "[encoded data removed]"
          },
          "metadata": {}
        }
      ]
    },
    {
      "cell_type": "markdown",
      "source": [
        "**observe**\n",
        "\n",
        "Data is not only **multi classed imbalanced** data\n",
        "- It is also **Non-Linear in nature**\n",
        "\n"
      ],
      "metadata": {
        "id": "QNtr_ncRL-pn"
      }
    },
    {
      "cell_type": "markdown",
      "source": [
        "#### Imagine if data ($n \\approx 1 million $), will Polynomial Logistic Regression model be the right model ?\n",
        "\n",
        "Ans: No, Clearly it will require **a lot of hyperparameter tuning**:\n",
        "- for finding the **correct polynomial features for Logistic Regression**\n"
      ],
      "metadata": {
        "id": "LwmdG2fmpeii"
      }
    },
    {
      "cell_type": "markdown",
      "source": [
        "<img src=https://d2beiqkhq929f0.cloudfront.net/public_assets/assets/000/040/473/original/Screenshot_2023-07-23_at_7.44.08_PM.png?1690130923 width=700>"
      ],
      "metadata": {
        "id": "Nsaq8k49pyn-"
      }
    },
    {
      "cell_type": "markdown",
      "source": [
        "\n",
        "This process will be time consuming, hence not the ideal approach\n",
        "\n",
        "<br>\n",
        "\n",
        "#### If store categories changes from 3 to 50, will OVR be the ideal approach ?\n",
        "\n",
        "Ans: No, since for a  **50 class data, 50 different Logistic Regression model** will be required:\n",
        "-  This process will be both **Expensive and time consuming**\n",
        "\n",
        "<br>\n",
        "\n",
        "Hence **Polynomial OVR Logistic Regression model not the ideal approach**"
      ],
      "metadata": {
        "id": "hvvERVTLOrHA"
      }
    },
    {
      "cell_type": "markdown",
      "metadata": {
        "id": "JmM3oFDnO1Xx"
      },
      "source": [
        "# **Geometric Intuition of kNN**"
      ]
    },
    {
      "cell_type": "markdown",
      "source": [
        "#### What model can be used for this Non-linear Multi-Class data ?"
      ],
      "metadata": {
        "id": "_h55BnOOSSL5"
      }
    },
    {
      "cell_type": "markdown",
      "source": [
        "<img src=https://d2beiqkhq929f0.cloudfront.net/public_assets/assets/000/040/472/original/Screenshot_2023-07-23_at_7.44.16_PM.png?1690130898 width=700>"
      ],
      "metadata": {
        "id": "grlZ-hwQpoIF"
      }
    },
    {
      "cell_type": "markdown",
      "source": [
        "Imagine if our training data looks like:\n",
        "\n",
        "1. Class 1 data $→ (+) $\n",
        "2. Class 2 data $→ (-) $\n",
        "3. Class 3 data $→ (o) $\n",
        "\n",
        "\n",
        "\n",
        "\n"
      ],
      "metadata": {
        "id": "vo0jN8KaR8-z"
      }
    },
    {
      "cell_type": "markdown",
      "source": [
        "\n",
        "#### If we have a test data sample,($x^{q1}$), what will be class label for it ?\n",
        "\n",
        "Ans: Clearly, $x^{q1}$ belongs to $(+)$ Class\n",
        "\n",
        "\n",
        "<br>\n",
        "\n",
        "#### What will be the class label for ($x^{q2}$) ?\n",
        "Ans: $x^{q2}$ belongs to $(-)$ Class\n"
      ],
      "metadata": {
        "id": "ilmGezyY5dIe"
      }
    },
    {
      "cell_type": "markdown",
      "source": [
        "#### How are we sure that $(x^{q1})$ belongs to $(+)$ and $(x^{q2})$ belongs to $(-)$ class ?"
      ],
      "metadata": {
        "id": "j0TFdfuR6CTO"
      }
    },
    {
      "cell_type": "markdown",
      "source": [
        "\n",
        "\n",
        "Ans: Simply by:\n",
        "- **Observing the neighboring points** of $(x^{q1})$ and noticing as most points belong to $(+)$ Class,\n",
        " - hence $(x^{q1})$ → $(+)$\n",
        "\n",
        "- Similarly for $(x^{q2})$,  **most of the neighboring points → (-) class**\n",
        " - hence $(x^{q2})$ → $(-)$\n",
        "\n",
        "\n",
        "<br>\n",
        "\n",
        "\n",
        "kNN (k Nearest Neighbour) algorithm works on the same intuition:\n",
        "- Defining **class of the test datapoint based** on the **classes of the neighbourhood** of that datapoint\n"
      ],
      "metadata": {
        "id": "w1m63ItlUEzo"
      }
    },
    {
      "cell_type": "markdown",
      "source": [
        "# **Understanding kNN**"
      ],
      "metadata": {
        "id": "cVco3FomQkgS"
      }
    },
    {
      "cell_type": "markdown",
      "source": [
        "#### How does kNN work with neighborhood of datapoint ?\n",
        "\n",
        "Ans: Lets understand kNN with an example, Suppose **we have a test datapoint ($x^q = [2,5]$) and we have 6 training data such that**:\n",
        "\n",
        "||f1|f2|y|\n",
        "|:--|:--|:--|:--|\n",
        "|$x^{(1)}$|3|6|1\n",
        "|$x^{(2)}$|6|4|1\n",
        "|$x^{(3)}$|8|2|3\n",
        "|$x^{(4)}$|7|5|3\n",
        "|$x^{(5)}$|1|4|2\n",
        "|$x^{(6)}$|2|2|2\n"
      ],
      "metadata": {
        "id": "E71BJF6Q6U_X"
      }
    },
    {
      "cell_type": "markdown",
      "source": [
        "<img src=https://d2beiqkhq929f0.cloudfront.net/public_assets/assets/000/040/474/original/Screenshot_2023-07-23_at_7.44.29_PM.png?1690130963 width=700>"
      ],
      "metadata": {
        "id": "4RwzsFIYqAda"
      }
    },
    {
      "cell_type": "markdown",
      "source": [
        "1. **Step1:** We find the  **Euclidean distance between $x_q = [2,5]$ and all the training data.**\n",
        "\n",
        "\n",
        "||f1|f2|y|$d^{(i)} = \\sqrt{(x^q_{f1}-x^{(i)}_{f1})^2 + (x^q_{f2}-x^{(i)}_{f2})^2}$|\n",
        "|:--|:--|:--|:--|:--|\n",
        "|$x^{(1)}$|3|6|1|$\\sqrt{(1^2 + 1^2)} = 1.41$|\n",
        "|$x^{(2)}$|6|4|1|$\\sqrt{(4^2 + 1^2)} = 3.00$|\n",
        "|$x^{(3)}$|8|2|3|$\\sqrt{(6^2 + 3^2)} = 6.48$|\n",
        "|$x^{(4)}$|7|5|3|$\\sqrt{(5^2 + 0^2)} = 5.00$|\n",
        "|$x^{(5)}$|1|4|2|$\\sqrt{(1^2 + 1^2)} = 1.41$|\n",
        "|$x^{(6)}$|2|2|2|$\\sqrt{(0^2 + 2^2)} = 2.00$|\n",
        "\n",
        "\n",
        "\n",
        "  "
      ],
      "metadata": {
        "id": "qM1Gp-C0pnZQ"
      }
    },
    {
      "cell_type": "markdown",
      "source": [
        "<img src=https://d2beiqkhq929f0.cloudfront.net/public_assets/assets/000/040/475/original/Screenshot_2023-07-23_at_7.44.37_PM.png?1690130998 width=700>"
      ],
      "metadata": {
        "id": "2HdzmtSTqEVV"
      }
    },
    {
      "cell_type": "markdown",
      "source": [
        "2. **Step2:** We sort the data based on the distances:\n",
        "\n",
        "||f1|f2|y|$d^{(i)}$|\n",
        "|:--|:--|:--|:--|:--|\n",
        "|$x^{(1)}$|3|6|1|$1.41$|\n",
        "|$x^{(5)}$|1|4|2|$1.41$|\n",
        "|$x^{(6)}$|2|2|2|$2.00$|\n",
        "|$x^{(2)}$|6|4|1|$3.00$|\n",
        "|$x^{(4)}$|7|5|3|$5.00$|\n",
        "|$x^{(3)}$|8|2|3|$6.48$|\n",
        "\n",
        "<br>\n"
      ],
      "metadata": {
        "id": "7XLT6Gg-xWKS"
      }
    },
    {
      "cell_type": "markdown",
      "source": [
        "<img src=https://d2beiqkhq929f0.cloudfront.net/public_assets/assets/000/040/476/original/Screenshot_2023-07-23_at_7.44.47_PM.png?1690131021 width=700>"
      ],
      "metadata": {
        "id": "UcalssxJqJ5T"
      }
    },
    {
      "cell_type": "markdown",
      "source": [
        "\n",
        "3. **Step 3:** Assume we pick the 3 datapoints such that:\n",
        "-  The distance from $x_q$ is minimum\n",
        "\n",
        "||f1|f2|y|$d^{(i)}$|\n",
        "|:--|:--|:--|:--|:--|\n",
        "|$x^{(1)}$|3|6|1|$1.41$|\n",
        "|$x^{(5)}$|1|4|2|$1.41$|\n",
        "|$x^{(6)}$|2|2|2|$2.00$|\n",
        "\n",
        "Hence we pick $x^{(1)},x^{(5)},x^{(6)}$\n",
        "\n",
        "\n",
        "<br>\n"
      ],
      "metadata": {
        "id": "5X5EbpX46cet"
      }
    },
    {
      "cell_type": "markdown",
      "source": [
        "<img src=https://d2beiqkhq929f0.cloudfront.net/public_assets/assets/000/040/477/original/Screenshot_2023-07-23_at_7.44.57_PM.png?1690131095 width=700>"
      ],
      "metadata": {
        "id": "UJQgOMywqb46"
      }
    },
    {
      "cell_type": "markdown",
      "source": [
        "\n",
        "4. **Step4:** Find the majority vote on the class $(y)$ for these selected datapoints:\n",
        "- And the **class which is in majority** becomes the **class label for $x_q$**\n",
        "\n",
        "hence here  Class of $x_q = 2$\n",
        "\n",
        "<br>\n",
        "\n",
        "**Note:** This selection of datapoints  is done using a hyperparameter $k$,\n",
        "- hence the algorithm is called $k$ nearest neighbors\n",
        "\n"
      ],
      "metadata": {
        "id": "RS3TTAmi6haI"
      }
    },
    {
      "cell_type": "markdown",
      "source": [
        "<img src=https://d2beiqkhq929f0.cloudfront.net/public_assets/assets/000/040/479/original/Screenshot_2023-07-23_at_7.45.06_PM.png?1690131159 width=700>"
      ],
      "metadata": {
        "id": "Rs8wwI4aqrGX"
      }
    },
    {
      "cell_type": "markdown",
      "source": [
        "#### What happens if $k = 4$ for kNN ?\n",
        "\n",
        "Ans:  Lets look into the sorted data:\n",
        "\n",
        "||f1|f2|y|$d^{(i)}$|\n",
        "|:--|:--|:--|:--|:--|\n",
        "|$x^{(1)}$|3|6|1|$1.41$|\n",
        "|$x^{(5)}$|1|4|2|$1.41$|\n",
        "|$x^{(6)}$|2|2|2|$2.00$|\n",
        "|$x^{(2)}$|6|4|1|$3.00$|\n",
        "|$x^{(4)}$|7|5|3|$5.00$|\n",
        "|$x^{(3)}$|8|2|3|$6.48$|\n"
      ],
      "metadata": {
        "id": "j2mZGGiM7IWU"
      }
    },
    {
      "cell_type": "markdown",
      "source": [
        "<img src=https://d2beiqkhq929f0.cloudfront.net/public_assets/assets/000/040/478/original/Screenshot_2023-07-23_at_7.45.15_PM.png?1690131134 width=700>"
      ],
      "metadata": {
        "id": "19bUikmzqkzO"
      }
    },
    {
      "cell_type": "markdown",
      "source": [
        "\n",
        "\n",
        "Now we will select the nearest 4 datapoints:\n",
        "\n",
        "||f1|f2|y|$d^{(i)}$|\n",
        "|:--|:--|:--|:--|:--|\n",
        "|$x^{(1)}$|3|6|1|$1.41$|\n",
        "|$x^{(5)}$|1|4|2|$1.41$|\n",
        "|$x^{(6)}$|2|2|2|$2.00$|\n",
        "|$x^{(2)}$|6|4|1|$3.00$|\n",
        "\n",
        "\n",
        "**observe**\n",
        "\n",
        "$x^{(1)}$ and $x^{(2)}$ → Class1 while  $x^{(5)}$ and $x^{(6)}$ → Class2\n",
        "\n",
        "**kNN cannot make a prediction**\n",
        "- As there is a tie in majority vote\n",
        "\n",
        "<br>\n",
        "\n",
        "\n",
        "**note:** It is advisable to have $k \\in odd$\n",
        "- So  to avoid this issue of tie in majority vote.\n",
        "\n",
        "\n",
        "\n",
        "\n"
      ],
      "metadata": {
        "id": "wk47JXSs1Qpf"
      }
    },
    {
      "cell_type": "markdown",
      "source": [
        "Suppose we took $k =5 $ and the nearest neighbor looks like:\n",
        "\n",
        "||y|\n",
        "|:--|:--|\n",
        "|$x^{(1)}$| 1 |\n",
        "|$x^{(5)}$| 2 |\n",
        "|$x^{(2)}$| 1 |\n",
        "|$x^{(7)}$| 2 |\n",
        "|$x^{(4)}$| 3 |\n"
      ],
      "metadata": {
        "id": "d5ek-nc37OEM"
      }
    },
    {
      "cell_type": "markdown",
      "source": [
        "<img src=https://d2beiqkhq929f0.cloudfront.net/public_assets/assets/000/040/480/original/Screenshot_2023-07-23_at_7.45.24_PM.png?1690131190 width=700>"
      ],
      "metadata": {
        "id": "RrL8qzOwqya3"
      }
    },
    {
      "cell_type": "markdown",
      "source": [
        "\n",
        "#### How to make prediction for when $k \\in odd$ and have tie in majority vote ?\n",
        "Ans: In such case, the hack is to:\n",
        "- **Randomly pick the class label for any of the tied Classes**\n",
        "\n",
        "\n",
        "\n",
        "\n",
        "For this example:\n",
        "\n",
        "||y|\n",
        "|:--|:--|\n",
        "|$x^{(1)}$| 1 |\n",
        "|$x^{(5)}$| 2 |\n",
        "|$x^{(2)}$| 1 |\n",
        "|$x^{(7)}$| 2 |\n",
        "|$x^{(4)}$| 3 |\n",
        "\n",
        "\n",
        "- kNN randomly picks Class1 or Class 2\n"
      ],
      "metadata": {
        "id": "u7yM58s24-7A"
      }
    },
    {
      "cell_type": "markdown",
      "source": [
        "<img src=https://d2beiqkhq929f0.cloudfront.net/public_assets/assets/000/040/482/original/Screenshot_2023-07-23_at_7.45.40_PM.png?1690131330 width=700>"
      ],
      "metadata": {
        "id": "8M31zrLSrTAD"
      }
    },
    {
      "cell_type": "markdown",
      "metadata": {
        "id": "9z1ei7T4rnXM"
      },
      "source": [
        "# **kNN Scratch Code**"
      ]
    },
    {
      "cell_type": "markdown",
      "metadata": {
        "id": "1PYOatuolebV"
      },
      "source": [
        "lets split the data into train, validation and test set"
      ]
    },
    {
      "cell_type": "code",
      "execution_count": null,
      "metadata": {
        "id": "RQBeEe4NlebV"
      },
      "outputs": [],
      "source": [
        "from sklearn.model_selection import train_test_split\n",
        "import matplotlib.pyplot as plt\n",
        "\n",
        "X_train_val, X_test, y_train_val, y_test = train_test_split(X,y,test_size=0.25, random_state=42)\n",
        "\n",
        "X_train, X_val, y_train, y_val = train_test_split(X_train_val,y_train_val,test_size=0.25, random_state=42)"
      ]
    },
    {
      "cell_type": "code",
      "execution_count": null,
      "metadata": {
        "colab": {
          "base_uri": "https://localhost:8080/"
        },
        "id": "lIE7huiKlebV",
        "outputId": "bdf66a5c-e734-4fc8-e2c8-70dec299cb6d"
      },
      "outputs": [
        {
          "output_type": "stream",
          "name": "stdout",
          "text": [
            "(247, 7) (247, 1)\n",
            "(83, 7) (83, 1)\n",
            "(110, 7) (110, 1)\n"
          ]
        }
      ],
      "source": [
        "print(X_train.shape, y_train.shape)\n",
        "print(X_val.shape, y_val.shape)\n",
        "print(X_test.shape, y_test.shape)"
      ]
    },
    {
      "cell_type": "markdown",
      "metadata": {
        "id": "Lv-25yYglebV"
      },
      "source": [
        "#### SMOTE"
      ]
    },
    {
      "cell_type": "code",
      "source": [
        "from imblearn.over_sampling import SMOTE\n",
        "\n",
        "# Create an instance of SMOTE\n",
        "smt = SMOTE()\n",
        "\n",
        "X_sm, y_sm = smt.fit_resample(X_train, y_train)"
      ],
      "metadata": {
        "id": "IzZwJw3kQxN3"
      },
      "execution_count": null,
      "outputs": []
    },
    {
      "cell_type": "code",
      "source": [
        "y_sm.value_counts()"
      ],
      "metadata": {
        "colab": {
          "base_uri": "https://localhost:8080/"
        },
        "id": "z195f41mRZhK",
        "outputId": "7182406f-b286-4465-e65c-5bfe1fed68dc"
      },
      "execution_count": null,
      "outputs": [
        {
          "output_type": "execute_result",
          "data": {
            "text/plain": [
              "class\n",
              "1        99\n",
              "2        99\n",
              "3        99\n",
              "dtype: int64"
            ]
          },
          "metadata": {},
          "execution_count": 11
        }
      ]
    },
    {
      "cell_type": "markdown",
      "source": [
        "Standardization"
      ],
      "metadata": {
        "id": "J1iymvAnRgPU"
      }
    },
    {
      "cell_type": "code",
      "source": [
        "from sklearn.preprocessing import StandardScaler\n",
        "\n",
        "st =  StandardScaler()\n",
        "\n",
        "X_sm = st.fit_transform(X_sm.values)\n",
        "X_val_scaled = st.transform(X_val.values)\n",
        "X_test_scaled = st.transform(X_test.values)\n",
        "\n",
        "y_sm = y_sm.values[:,0]\n",
        "y_val = y_val.values[:,0]\n",
        "y_test = y_test.values[:,0]"
      ],
      "metadata": {
        "id": "jFLc-WgERop9"
      },
      "execution_count": null,
      "outputs": []
    },
    {
      "cell_type": "markdown",
      "metadata": {
        "id": "51sBHKOllebV"
      },
      "source": [
        "kNN Implementation from Scratch\n",
        " with k = 5"
      ]
    },
    {
      "cell_type": "markdown",
      "metadata": {
        "id": "FHh3VUqilebW"
      },
      "source": [
        "taking the 50th Val data as our $x_q$"
      ]
    },
    {
      "cell_type": "code",
      "execution_count": null,
      "metadata": {
        "colab": {
          "base_uri": "https://localhost:8080/"
        },
        "id": "wC1F_RaslebW",
        "outputId": "0ebde1b5-0e70-4535-d9b0-9e0c417d74e0"
      },
      "outputs": [
        {
          "output_type": "execute_result",
          "data": {
            "text/plain": [
              "array([ 0.7138225 , -0.60391056, -0.45630472, -0.65085666, -0.31171627,\n",
              "       -0.5025302 , -0.2767165 ])"
            ]
          },
          "metadata": {},
          "execution_count": 13
        }
      ],
      "source": [
        "X_val_scaled[50]"
      ]
    },
    {
      "cell_type": "markdown",
      "source": [
        "finding distance"
      ],
      "metadata": {
        "id": "7keeosygL_uL"
      }
    },
    {
      "cell_type": "code",
      "source": [
        "dist = np.sqrt(np.sum((X_val_scaled[50]-X_sm)**2,axis=1) )\n",
        "\n",
        "print(dist.shape)"
      ],
      "metadata": {
        "colab": {
          "base_uri": "https://localhost:8080/"
        },
        "id": "4Buk90AML_iu",
        "outputId": "6d25be52-f427-41ee-c329-f4b6e01f1c34"
      },
      "execution_count": null,
      "outputs": [
        {
          "output_type": "stream",
          "name": "stdout",
          "text": [
            "(297,)\n"
          ]
        }
      ]
    },
    {
      "cell_type": "code",
      "source": [
        "# Storing distance and Class labels together\n",
        "distances = [(dist[i],y_sm[i]) for i in range(len(dist)) ]\n",
        "\n",
        "# sort the distances\n",
        "distances = sorted(distances)"
      ],
      "metadata": {
        "id": "Bc2PqX8zMLn2"
      },
      "execution_count": null,
      "outputs": []
    },
    {
      "cell_type": "code",
      "source": [
        "# Nearest/First K points\n",
        "distances = distances[:5]"
      ],
      "metadata": {
        "id": "6yDXwb04MUUG"
      },
      "execution_count": null,
      "outputs": []
    },
    {
      "cell_type": "code",
      "source": [
        "distances = np.array(distances)\n",
        "\n",
        "classes_counts = np.unique(distances[:,1],return_counts=True)\n",
        "\n",
        "index = classes_counts[1].argmax()\n",
        "pred = classes_counts[0][index]\n",
        "\n",
        "print('kNN prediction:',pred)"
      ],
      "metadata": {
        "colab": {
          "base_uri": "https://localhost:8080/"
        },
        "id": "Z29NIA5nL3HG",
        "outputId": "d9c6b8b8-79ca-42e0-dd9a-4567718a5a3c"
      },
      "execution_count": null,
      "outputs": [
        {
          "output_type": "stream",
          "name": "stdout",
          "text": [
            "kNN prediction: 3.0\n"
          ]
        }
      ]
    },
    {
      "cell_type": "code",
      "source": [
        "print('Neighbors[(distance),(Label)]:',distances)"
      ],
      "metadata": {
        "colab": {
          "base_uri": "https://localhost:8080/"
        },
        "id": "UjPnigJjMgc9",
        "outputId": "324bd69d-f9ce-434d-8a91-9e085924b996"
      },
      "execution_count": null,
      "outputs": [
        {
          "output_type": "stream",
          "name": "stdout",
          "text": [
            "Neighbors[(distance),(Label)]: [[0.19893067 3.        ]\n",
            " [0.20746875 3.        ]\n",
            " [0.23006218 3.        ]\n",
            " [0.28634191 3.        ]\n",
            " [0.29603924 3.        ]]\n"
          ]
        }
      ]
    },
    {
      "cell_type": "markdown",
      "source": [
        "Formulating into one function"
      ],
      "metadata": {
        "id": "ibMnShkYNJI6"
      }
    },
    {
      "cell_type": "code",
      "execution_count": null,
      "metadata": {
        "id": "0b6nzlDZGjZZ"
      },
      "outputs": [],
      "source": [
        "def knn(X,Y,queryPoint,k):\n",
        "    \"\"\"Predict the class label for the query point\"\"\"\n",
        "    # Euclidean Distance\n",
        "    dist = np.sqrt(np.sum((queryPoint-X)**2,axis=1) )\n",
        "\n",
        "    # Storing distance and Class labels together\n",
        "    distances = [(dist[i],Y[i]) for i in range(len(dist)) ]\n",
        "    # sort the distances\n",
        "    distances = sorted(distances)\n",
        "    # Nearest/First K points\n",
        "    distances = distances[:k]\n",
        "\n",
        "    distances = np.array(distances)\n",
        "\n",
        "    classes_counts = np.unique(distances[:,1],return_counts=True)\n",
        "\n",
        "    index = classes_counts[1].argmax()\n",
        "    pred = classes_counts[0][index]\n",
        "\n",
        "    return int(pred),distances"
      ]
    },
    {
      "cell_type": "markdown",
      "metadata": {
        "id": "f6Bg3wYYlebW"
      },
      "source": [
        "Predicted class label for $x_q$"
      ]
    },
    {
      "cell_type": "code",
      "execution_count": null,
      "metadata": {
        "colab": {
          "base_uri": "https://localhost:8080/"
        },
        "id": "OpDnW1XVlebW",
        "outputId": "894d8ade-9be9-432d-ada3-bd38bc3f8add"
      },
      "outputs": [
        {
          "output_type": "stream",
          "name": "stdout",
          "text": [
            "k nearest neighbors with the distance and class label :[[0.19893067 3.        ]\n",
            " [0.20746875 3.        ]\n",
            " [0.23006218 3.        ]\n",
            " [0.28634191 3.        ]\n",
            " [0.29603924 3.        ]]\n",
            "The predicted class label: 3\n"
          ]
        }
      ],
      "source": [
        "pred,neighbors = knn(X_sm, y_sm, X_val_scaled[50],5)\n",
        "\n",
        "print(f'k nearest neighbors with the distance and class label :{neighbors}')\n",
        "\n",
        "print(f'The predicted class label: {pred}')"
      ]
    },
    {
      "cell_type": "markdown",
      "metadata": {
        "id": "LQ36bpTJpIgg"
      },
      "source": [
        "**Observe**\n",
        "\n",
        "All the 5 datapoints which are closest to the $x^q$ have:\n",
        "- The same class labels = 3\n",
        "\n",
        "Hence due to majority vote:\n",
        "- $x^q$ → Class3\n",
        "\n",
        "<br>\n",
        "\n",
        "Lets see what is the actual class label for $x^q$"
      ]
    },
    {
      "cell_type": "code",
      "execution_count": null,
      "metadata": {
        "colab": {
          "base_uri": "https://localhost:8080/"
        },
        "id": "x-7IXoHolebW",
        "outputId": "ac3bbf1c-1e85-49f1-f9ed-0460cba79bc4"
      },
      "outputs": [
        {
          "output_type": "execute_result",
          "data": {
            "text/plain": [
              "3"
            ]
          },
          "metadata": {},
          "execution_count": 21
        }
      ],
      "source": [
        "y_val[50]"
      ]
    },
    {
      "cell_type": "markdown",
      "metadata": {
        "id": "_W-DzZs8lebW"
      },
      "source": [
        "This means that kNN correctly predicted $x^q$\n",
        "\n"
      ]
    },
    {
      "cell_type": "code",
      "source": [
        "from sklearn.metrics import confusion_matrix\n",
        "\n",
        "y_pred = []\n",
        "\n",
        "for i in range(X_test_scaled.shape[0]):\n",
        "    output,_ = knn(X_sm, y_sm, X_test_scaled[i],5)\n",
        "    y_pred.append(output)\n",
        "\n",
        "\n",
        "\n",
        "\n",
        "cm = confusion_matrix(y_test,y_pred)\n"
      ],
      "metadata": {
        "id": "uddqwzfITv9Z"
      },
      "execution_count": null,
      "outputs": []
    },
    {
      "cell_type": "code",
      "source": [
        "from sklearn.metrics import ConfusionMatrixDisplay\n",
        "\n",
        "ConfusionMatrixDisplay(cm).plot()"
      ],
      "metadata": {
        "colab": {
          "base_uri": "https://localhost:8080/",
          "height": 467
        },
        "id": "TRgGAg-YVbUz",
        "outputId": "f841dc36-d9c5-42f3-e898-41be015b86dd"
      },
      "execution_count": null,
      "outputs": [
        {
          "output_type": "execute_result",
          "data": {
            "text/plain": [
              "<sklearn.metrics._plot.confusion_matrix.ConfusionMatrixDisplay at 0x7c8047ed1570>"
            ]
          },
          "metadata": {},
          "execution_count": 23
        },
        {
          "output_type": "display_data",
          "data": {
            "text/plain": [
              "<Figure size 640x480 with 2 Axes>"
            ],
            "image/png": "[encoded data removed]"
          },
          "metadata": {}
        }
      ]
    },
    {
      "cell_type": "code",
      "source": [
        "from sklearn.metrics import classification_report\n",
        "\n",
        "print(classification_report(y_pred,y_test))"
      ],
      "metadata": {
        "colab": {
          "base_uri": "https://localhost:8080/"
        },
        "id": "wVmboiVzhN2H",
        "outputId": "5abfcb3d-8a8e-4941-fbb6-95240bc065a5"
      },
      "execution_count": null,
      "outputs": [
        {
          "output_type": "stream",
          "name": "stdout",
          "text": [
            "              precision    recall  f1-score   support\n",
            "\n",
            "           1       0.80      0.62      0.70        26\n",
            "           2       0.74      0.92      0.82        38\n",
            "           3       0.95      0.89      0.92        46\n",
            "\n",
            "    accuracy                           0.84       110\n",
            "   macro avg       0.83      0.81      0.81       110\n",
            "weighted avg       0.85      0.84      0.83       110\n",
            "\n"
          ]
        }
      ]
    },
    {
      "cell_type": "markdown",
      "metadata": {
        "id": "8bg6pGAO0T9u"
      },
      "source": [
        "**observe**\n",
        "\n",
        "Clearly the kNN model performed quite well on the data, showing :\n",
        "- kNN can handle Multi-Class problem\n",
        "- kNN can handle Non-linearity in the data\n",
        "\n"
      ]
    },
    {
      "cell_type": "markdown",
      "metadata": {
        "id": "cA--XdIMsHYP"
      },
      "source": [
        "# **Assumption of KNN:**"
      ]
    },
    {
      "cell_type": "markdown",
      "source": [
        "if data contains:\n",
        "1. 33 $(+)$ Class samples\n",
        "2. 33 $(-)$ Class samples\n",
        "3. 33 $(o)$ Class samples\n",
        "\n",
        "<br>\n",
        "\n",
        "#### What assumption does kNN makes during prediction ?"
      ],
      "metadata": {
        "id": "wqLgxIxdLtYl"
      }
    },
    {
      "cell_type": "markdown",
      "source": [
        "<img src=https://d2beiqkhq929f0.cloudfront.net/public_assets/assets/000/040/481/original/Screenshot_2023-07-23_at_7.45.57_PM.png?1690131249 width=700>"
      ],
      "metadata": {
        "id": "7U3hlJaaq87A"
      }
    },
    {
      "cell_type": "markdown",
      "source": [
        "Ans: As kNN works on the principle that:\n",
        "- All the **characteristic the majority nearest neighbors have, same** should be for the **query datapoint**\n",
        "\n",
        "- hence **kNN assumes that the neighborhood** for a datapoint must be **homogeneous in nature (having same properties)**\n",
        "\n",
        "\n"
      ],
      "metadata": {
        "id": "9qHqqi7QLjnH"
      }
    },
    {
      "cell_type": "markdown",
      "source": [
        "Therefore if there is alot of noise/outliers in the data:\n"
      ],
      "metadata": {
        "id": "8MbwwrgR7mim"
      }
    },
    {
      "cell_type": "markdown",
      "source": [
        "- kNN model fails in most cases"
      ],
      "metadata": {
        "id": "bHRVA1047oHc"
      }
    }
  ]
}